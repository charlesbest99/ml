{
  "nbformat": 4,
  "nbformat_minor": 0,
  "metadata": {
    "colab": {
      "provenance": [],
      "authorship_tag": "ABX9TyN5BUIHJxDFXdcVRWUeSSKY",
      "include_colab_link": true
    },
    "kernelspec": {
      "name": "python3",
      "display_name": "Python 3"
    },
    "language_info": {
      "name": "python"
    }
  },
  "cells": [
    {
      "cell_type": "markdown",
      "metadata": {
        "id": "view-in-github",
        "colab_type": "text"
      },
      "source": [
        "<a href=\"https://colab.research.google.com/github/charlesbest99/ml/blob/main/9-1.ipynb\" target=\"_parent\"><img src=\"https://colab.research.google.com/assets/colab-badge.svg\" alt=\"Open In Colab\"/></a>"
      ]
    },
    {
      "cell_type": "markdown",
      "source": [
        "피드 포워드 신경망(FFN)\n",
        "\n",
        "입력 데이터 흐름이 앞으로만 전달되는 신경망\n",
        "\n",
        "(FCN, Convnet)"
      ],
      "metadata": {
        "id": "Lsf8rjfd9-aV"
      }
    },
    {
      "cell_type": "markdown",
      "source": [
        "순환 신경망 (RNN)\n",
        "\n",
        "신경망이 이전에 처리했던 샘플을 다음 샘플을 처리하는데 재사용하기 위해 이전 데이터가 순환됨"
      ],
      "metadata": {
        "id": "Gyr8gGMd9-ZP"
      }
    },
    {
      "cell_type": "markdown",
      "source": [],
      "metadata": {
        "id": "oa0wLwjBC-h6"
      }
    },
    {
      "cell_type": "markdown",
      "source": [
        "타임 스텝\n",
        "\n",
        "이전 샘플의 학습 결과도 새 샘플과 같이 입력하여 학습을 수행하는 방법\n",
        "\n",
        "은닉층의 활성화 함수로 tanh 사용\n",
        "\n",
        "뉴런에 가중치 하나 추가"
      ],
      "metadata": {
        "id": "cKTXsOVI-wsr"
      }
    },
    {
      "cell_type": "markdown",
      "source": [
        "타임 스텝 개수 : 뉴런에 입력되는 데이터 횟수에 비례\n",
        "\n",
        "이전 타임스텝의 은닉상태는 다음 타임스텝 뉴런에 완전히 연결\n"
      ],
      "metadata": {
        "id": "z-IoccOS-wq1"
      }
    },
    {
      "cell_type": "markdown",
      "source": [
        "셀의 입출력\n",
        "\n",
        "샘플마다 2개의 차원을 가짐\n",
        "하나의 샘플 = 하나의 시퀀스 -> 안에는 여러개의 아이템\n",
        "\n",
        "시퀀스의 길이가 타임스텝의 길이"
      ],
      "metadata": {
        "id": "kP5yNfTVAmpX"
      }
    },
    {
      "cell_type": "markdown",
      "source": [
        "출력층의 구성\n",
        "\n",
        "마지막에 dense 층\n",
        "\n",
        "마지막 셀의 출력이 1차원이기 때문에 Flatten 불필요"
      ],
      "metadata": {
        "id": "F2diWG7qAmn4"
      }
    },
    {
      "cell_type": "code",
      "execution_count": null,
      "metadata": {
        "id": "ybUZnXXr96mN"
      },
      "outputs": [],
      "source": []
    }
  ]
}