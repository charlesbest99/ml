{
  "nbformat": 4,
  "nbformat_minor": 0,
  "metadata": {
    "colab": {
      "provenance": [],
      "authorship_tag": "ABX9TyOU/o9vMQjYVpJbp5WWxSQ+",
      "include_colab_link": true
    },
    "kernelspec": {
      "name": "python3",
      "display_name": "Python 3"
    },
    "language_info": {
      "name": "python"
    }
  },
  "cells": [
    {
      "cell_type": "markdown",
      "metadata": {
        "id": "view-in-github",
        "colab_type": "text"
      },
      "source": [
        "<a href=\"https://colab.research.google.com/github/charlesbest99/ml/blob/main/8-1.ipynb\" target=\"_parent\"><img src=\"https://colab.research.google.com/assets/colab-badge.svg\" alt=\"Open In Colab\"/></a>"
      ]
    },
    {
      "cell_type": "markdown",
      "source": [
        "# 합성곱 신경망"
      ],
      "metadata": {
        "id": "iFrnsGzYF2kW"
      }
    },
    {
      "cell_type": "markdown",
      "source": [
        "필터/커널 사용\n",
        "\n",
        "기존 FCN에서는 모든 입력에 연산 수행\n",
        "\n",
        "합성곱에서는 지정한 입력의 개수로 반복 연산"
      ],
      "metadata": {
        "id": "Bnfm9iLGF7Ff"
      }
    },
    {
      "cell_type": "markdown",
      "source": [
        "특성맴 : 합성곱 계산으로 얻은 출력\n",
        "\n",
        "여러개의 필터를 사용하면 여러개의 특성 맵이 쌓임\n",
        "\n",
        "2차원 형태를 유지, 입력보다 훨씬 작은 크기의 커널 사용 -> 더 작은 크기의 모델, 이미지 처리에 좋음"
      ],
      "metadata": {
        "id": "lYCDxpioHeIm"
      }
    },
    {
      "cell_type": "code",
      "source": [
        "from tensorflow import keras\n",
        "keras.layers.Conv2D(10, kernel_size=(3, 3), activation='relu')"
      ],
      "metadata": {
        "colab": {
          "base_uri": "https://localhost:8080/"
        },
        "id": "2c0fPgpxF6O1",
        "outputId": "3f4106db-4dae-4cd8-ced5-1226f027c6ad"
      },
      "execution_count": null,
      "outputs": [
        {
          "output_type": "execute_result",
          "data": {
            "text/plain": [
              "<keras.src.layers.convolutional.conv2d.Conv2D at 0x78ec521416f0>"
            ]
          },
          "metadata": {},
          "execution_count": 2
        }
      ]
    },
    {
      "cell_type": "markdown",
      "source": [
        "패딩 : 커널 크기 고정하면서도 출력과 입력 크기 동일하게 만들기 위함\n",
        "\n",
        "-세임 패딩\n",
        "\n",
        "-밸리드 패딩\n",
        "\n",
        "패딩이 없으면 모서리 값은 한번만 쓰임 -> 모서리 값의 정보 참여도 높이기 위함"
      ],
      "metadata": {
        "id": "U-uEwfNPJXPg"
      }
    },
    {
      "cell_type": "code",
      "source": [
        "keras.layers.Conv2D(10, kernel_size=(3, 3), activation='relu', padding='same')"
      ],
      "metadata": {
        "colab": {
          "base_uri": "https://localhost:8080/"
        },
        "id": "HR658Lp6J_5y",
        "outputId": "dd24e315-8af9-4688-e584-8a95966dd50a"
      },
      "execution_count": null,
      "outputs": [
        {
          "output_type": "execute_result",
          "data": {
            "text/plain": [
              "<keras.src.layers.convolutional.conv2d.Conv2D at 0x78ec52143040>"
            ]
          },
          "metadata": {},
          "execution_count": 3
        }
      ]
    },
    {
      "cell_type": "markdown",
      "source": [
        "스트라이드 : 커널 이동 칸수\n",
        "\n",
        "합성곱 연산 횟수, 특성맵 크기 줄이는 역할"
      ],
      "metadata": {
        "id": "0ChrQgiaKDc-"
      }
    },
    {
      "cell_type": "code",
      "source": [
        "keras.layers.Conv2D(10, kernel_size=(3, 3), activation='relu', padding='same', strides=1)"
      ],
      "metadata": {
        "colab": {
          "base_uri": "https://localhost:8080/"
        },
        "id": "cdPbbR27KR85",
        "outputId": "99072aaa-b44d-4f8f-eced-a8d9bb29623b"
      },
      "execution_count": null,
      "outputs": [
        {
          "output_type": "execute_result",
          "data": {
            "text/plain": [
              "<keras.src.layers.convolutional.conv2d.Conv2D at 0x78ec50b7f400>"
            ]
          },
          "metadata": {},
          "execution_count": 6
        }
      ]
    },
    {
      "cell_type": "markdown",
      "source": [
        "풀링 : 특성맵의 가로세로 크기를 줄임(개수는 그대로)\n",
        "\n",
        "-최대풀링, 평균풀링\n",
        "\n",
        "스트라이드보다 풀링이 경험적으로 더 좋은 성능"
      ],
      "metadata": {
        "id": "9mFcjUWOKXRy"
      }
    },
    {
      "cell_type": "code",
      "source": [
        "keras.layers.MaxPooling2D(2)"
      ],
      "metadata": {
        "id": "VFjEaTeioe_g"
      },
      "execution_count": null,
      "outputs": []
    },
    {
      "cell_type": "code",
      "source": [
        "keras.layers.MaxPooling2D(2, strides=2, padding='valid')"
      ],
      "metadata": {
        "id": "YmAldqahopoL"
      },
      "execution_count": null,
      "outputs": []
    },
    {
      "cell_type": "markdown",
      "source": [
        "합성곱-풀링-합성곱-풀링...-(Flatten)-밀집층-출력"
      ],
      "metadata": {
        "id": "EMC6ehnPLRTI"
      }
    },
    {
      "cell_type": "markdown",
      "source": [
        "컬러이미지를 사용한 합성곱\n",
        "\n",
        "색 표현 위한 깊이 차원 추가로 필요"
      ],
      "metadata": {
        "id": "Yg8naQ4gL7PR"
      }
    },
    {
      "cell_type": "code",
      "source": [],
      "metadata": {
        "id": "pK1RgDiSKM1K"
      },
      "execution_count": null,
      "outputs": []
    }
  ]
}